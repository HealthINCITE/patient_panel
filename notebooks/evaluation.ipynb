{
  "nbformat": 4,
  "nbformat_minor": 0,
  "metadata": {
    "kernelspec": {
      "name": "python3",
      "display_name": "Python 3"
    },
    "colab": {
      "name": "evaluation.ipynb",
      "provenance": []
    }
  },
  "cells": [
    {
      "cell_type": "markdown",
      "metadata": {
        "id": "UQ9ZWeQOhNxF",
        "colab_type": "text"
      },
      "source": [
        "## Splitting Evaluation\n",
        "The objective of this notebook is to obtain a standard way of evaluating models. For each person, the model is expected to predict a probability.  The referal is then evaluated under what time period it occurs. \n",
        "\n",
        "\n"
      ]
    },
    {
      "cell_type": "code",
      "metadata": {
        "id": "mLexL5gGhNxP",
        "colab_type": "code",
        "colab": {}
      },
      "source": [
        "%reload_ext autoreload\n",
        "%autoreload 2\n",
        "def warn(*args, **kwargs):\n",
        "    pass\n",
        "import warnings\n",
        "warnings.warn = warn\n"
      ],
      "execution_count": 0,
      "outputs": []
    },
    {
      "cell_type": "code",
      "metadata": {
        "id": "MwjfWd3ShNxl",
        "colab_type": "code",
        "colab": {}
      },
      "source": [
        "import sys\n",
        "import pandas as pd\n",
        "import datetime\n",
        "from pathlib import Path\n",
        "import numpy as np\n",
        "pd.set_option('display.max_columns', 9999)\n",
        "from sklearn.metrics import precision_score, accuracy_score, recall_score, balanced_accuracy_score, f1_score\n",
        "from sklearn.metrics import roc_auc_score, log_loss\n",
        "from sklearn.metrics import roc_curve"
      ],
      "execution_count": 0,
      "outputs": []
    },
    {
      "cell_type": "code",
      "metadata": {
        "id": "LCi9uv2YhNxu",
        "colab_type": "code",
        "outputId": "0f7e0608-7d68-495d-9b4a-139baf17fdec",
        "colab": {
          "base_uri": "https://localhost:8080/",
          "height": 444
        }
      },
      "source": [
        "#This could be used for benchmarking data\n",
        "#100 People for 5.5 years. \n",
        "path=Path('../data')\n",
        "file='test.csv' # has just 10 people for 2 years\n",
        "#file='long-5-1000-10-5-2-True-10-5-2-True-2-101-5-0-0.csv'\n",
        "df=pd.read_csv('https://raw.githubusercontent.com/HealthINCITE/patient_panel/master/data/test.csv')\n",
        "df"
      ],
      "execution_count": 0,
      "outputs": [
        {
          "output_type": "execute_result",
          "data": {
            "text/html": [
              "<div>\n",
              "<style scoped>\n",
              "    .dataframe tbody tr th:only-of-type {\n",
              "        vertical-align: middle;\n",
              "    }\n",
              "\n",
              "    .dataframe tbody tr th {\n",
              "        vertical-align: top;\n",
              "    }\n",
              "\n",
              "    .dataframe thead th {\n",
              "        text-align: right;\n",
              "    }\n",
              "</style>\n",
              "<table border=\"1\" class=\"dataframe\">\n",
              "  <thead>\n",
              "    <tr style=\"text-align: right;\">\n",
              "      <th></th>\n",
              "      <th>id</th>\n",
              "      <th>yrm</th>\n",
              "      <th>cad0</th>\n",
              "      <th>cad1</th>\n",
              "      <th>dv9</th>\n",
              "      <th>target</th>\n",
              "    </tr>\n",
              "  </thead>\n",
              "  <tbody>\n",
              "    <tr>\n",
              "      <th>0</th>\n",
              "      <td>1000</td>\n",
              "      <td>201601</td>\n",
              "      <td>1</td>\n",
              "      <td>1</td>\n",
              "      <td>0</td>\n",
              "      <td>0</td>\n",
              "    </tr>\n",
              "    <tr>\n",
              "      <th>1</th>\n",
              "      <td>1000</td>\n",
              "      <td>201602</td>\n",
              "      <td>1</td>\n",
              "      <td>1</td>\n",
              "      <td>0</td>\n",
              "      <td>0</td>\n",
              "    </tr>\n",
              "    <tr>\n",
              "      <th>2</th>\n",
              "      <td>1000</td>\n",
              "      <td>201603</td>\n",
              "      <td>1</td>\n",
              "      <td>1</td>\n",
              "      <td>0</td>\n",
              "      <td>0</td>\n",
              "    </tr>\n",
              "    <tr>\n",
              "      <th>3</th>\n",
              "      <td>1000</td>\n",
              "      <td>201604</td>\n",
              "      <td>1</td>\n",
              "      <td>1</td>\n",
              "      <td>0</td>\n",
              "      <td>0</td>\n",
              "    </tr>\n",
              "    <tr>\n",
              "      <th>4</th>\n",
              "      <td>1000</td>\n",
              "      <td>201605</td>\n",
              "      <td>1</td>\n",
              "      <td>1</td>\n",
              "      <td>0</td>\n",
              "      <td>0</td>\n",
              "    </tr>\n",
              "    <tr>\n",
              "      <th>...</th>\n",
              "      <td>...</td>\n",
              "      <td>...</td>\n",
              "      <td>...</td>\n",
              "      <td>...</td>\n",
              "      <td>...</td>\n",
              "      <td>...</td>\n",
              "    </tr>\n",
              "    <tr>\n",
              "      <th>235</th>\n",
              "      <td>1009</td>\n",
              "      <td>201708</td>\n",
              "      <td>0</td>\n",
              "      <td>1</td>\n",
              "      <td>1</td>\n",
              "      <td>0</td>\n",
              "    </tr>\n",
              "    <tr>\n",
              "      <th>236</th>\n",
              "      <td>1009</td>\n",
              "      <td>201709</td>\n",
              "      <td>0</td>\n",
              "      <td>1</td>\n",
              "      <td>1</td>\n",
              "      <td>0</td>\n",
              "    </tr>\n",
              "    <tr>\n",
              "      <th>237</th>\n",
              "      <td>1009</td>\n",
              "      <td>201710</td>\n",
              "      <td>0</td>\n",
              "      <td>1</td>\n",
              "      <td>1</td>\n",
              "      <td>0</td>\n",
              "    </tr>\n",
              "    <tr>\n",
              "      <th>238</th>\n",
              "      <td>1009</td>\n",
              "      <td>201711</td>\n",
              "      <td>0</td>\n",
              "      <td>1</td>\n",
              "      <td>1</td>\n",
              "      <td>0</td>\n",
              "    </tr>\n",
              "    <tr>\n",
              "      <th>239</th>\n",
              "      <td>1009</td>\n",
              "      <td>201712</td>\n",
              "      <td>0</td>\n",
              "      <td>1</td>\n",
              "      <td>1</td>\n",
              "      <td>1</td>\n",
              "    </tr>\n",
              "  </tbody>\n",
              "</table>\n",
              "<p>240 rows × 6 columns</p>\n",
              "</div>"
            ],
            "text/plain": [
              "       id     yrm  cad0  cad1  dv9  target\n",
              "0    1000  201601     1     1    0       0\n",
              "1    1000  201602     1     1    0       0\n",
              "2    1000  201603     1     1    0       0\n",
              "3    1000  201604     1     1    0       0\n",
              "4    1000  201605     1     1    0       0\n",
              "..    ...     ...   ...   ...  ...     ...\n",
              "235  1009  201708     0     1    1       0\n",
              "236  1009  201709     0     1    1       0\n",
              "237  1009  201710     0     1    1       0\n",
              "238  1009  201711     0     1    1       0\n",
              "239  1009  201712     0     1    1       1\n",
              "\n",
              "[240 rows x 6 columns]"
            ]
          },
          "metadata": {
            "tags": []
          },
          "execution_count": 10
        }
      ]
    },
    {
      "cell_type": "markdown",
      "metadata": {
        "id": "Dghapfe4hNx_",
        "colab_type": "text"
      },
      "source": [
        "## Train test split based on time window.\n"
      ]
    },
    {
      "cell_type": "code",
      "metadata": {
        "id": "8rsdxe0ZhNyA",
        "colab_type": "code",
        "outputId": "6c5d5f9e-3313-48e2-a6bd-f26e94e9d191",
        "colab": {
          "base_uri": "https://localhost:8080/",
          "height": 444
        }
      },
      "source": [
        "#Define the function\n",
        "def train_test_split(df, date_col, date_format, split_time):\n",
        "    split =pd.Timestamp(split_time)\n",
        "    #Let's convert this to datetime while we are at it. \n",
        "    df['yrm'] = pd.to_datetime(df[date_col], format=date_format)\n",
        "    train=df.loc[df['yrm']<split]\n",
        "    test=df.loc[df['yrm']>split]\n",
        "    return train, test\n",
        "\n",
        "#Run the Fuction\n",
        "train, test = train_test_split(df, 'yrm', '%Y%m', datetime.date(2016, 12,30)) \n",
        "test"
      ],
      "execution_count": 0,
      "outputs": [
        {
          "output_type": "execute_result",
          "data": {
            "text/html": [
              "<div>\n",
              "<style scoped>\n",
              "    .dataframe tbody tr th:only-of-type {\n",
              "        vertical-align: middle;\n",
              "    }\n",
              "\n",
              "    .dataframe tbody tr th {\n",
              "        vertical-align: top;\n",
              "    }\n",
              "\n",
              "    .dataframe thead th {\n",
              "        text-align: right;\n",
              "    }\n",
              "</style>\n",
              "<table border=\"1\" class=\"dataframe\">\n",
              "  <thead>\n",
              "    <tr style=\"text-align: right;\">\n",
              "      <th></th>\n",
              "      <th>id</th>\n",
              "      <th>yrm</th>\n",
              "      <th>cad0</th>\n",
              "      <th>cad1</th>\n",
              "      <th>dv9</th>\n",
              "      <th>target</th>\n",
              "    </tr>\n",
              "  </thead>\n",
              "  <tbody>\n",
              "    <tr>\n",
              "      <th>12</th>\n",
              "      <td>1000</td>\n",
              "      <td>2017-01-01</td>\n",
              "      <td>1</td>\n",
              "      <td>1</td>\n",
              "      <td>0</td>\n",
              "      <td>0</td>\n",
              "    </tr>\n",
              "    <tr>\n",
              "      <th>13</th>\n",
              "      <td>1000</td>\n",
              "      <td>2017-02-01</td>\n",
              "      <td>1</td>\n",
              "      <td>1</td>\n",
              "      <td>0</td>\n",
              "      <td>0</td>\n",
              "    </tr>\n",
              "    <tr>\n",
              "      <th>14</th>\n",
              "      <td>1000</td>\n",
              "      <td>2017-03-01</td>\n",
              "      <td>1</td>\n",
              "      <td>1</td>\n",
              "      <td>0</td>\n",
              "      <td>0</td>\n",
              "    </tr>\n",
              "    <tr>\n",
              "      <th>15</th>\n",
              "      <td>1000</td>\n",
              "      <td>2017-04-01</td>\n",
              "      <td>1</td>\n",
              "      <td>1</td>\n",
              "      <td>0</td>\n",
              "      <td>0</td>\n",
              "    </tr>\n",
              "    <tr>\n",
              "      <th>16</th>\n",
              "      <td>1000</td>\n",
              "      <td>2017-05-01</td>\n",
              "      <td>1</td>\n",
              "      <td>1</td>\n",
              "      <td>0</td>\n",
              "      <td>0</td>\n",
              "    </tr>\n",
              "    <tr>\n",
              "      <th>...</th>\n",
              "      <td>...</td>\n",
              "      <td>...</td>\n",
              "      <td>...</td>\n",
              "      <td>...</td>\n",
              "      <td>...</td>\n",
              "      <td>...</td>\n",
              "    </tr>\n",
              "    <tr>\n",
              "      <th>235</th>\n",
              "      <td>1009</td>\n",
              "      <td>2017-08-01</td>\n",
              "      <td>0</td>\n",
              "      <td>1</td>\n",
              "      <td>1</td>\n",
              "      <td>0</td>\n",
              "    </tr>\n",
              "    <tr>\n",
              "      <th>236</th>\n",
              "      <td>1009</td>\n",
              "      <td>2017-09-01</td>\n",
              "      <td>0</td>\n",
              "      <td>1</td>\n",
              "      <td>1</td>\n",
              "      <td>0</td>\n",
              "    </tr>\n",
              "    <tr>\n",
              "      <th>237</th>\n",
              "      <td>1009</td>\n",
              "      <td>2017-10-01</td>\n",
              "      <td>0</td>\n",
              "      <td>1</td>\n",
              "      <td>1</td>\n",
              "      <td>0</td>\n",
              "    </tr>\n",
              "    <tr>\n",
              "      <th>238</th>\n",
              "      <td>1009</td>\n",
              "      <td>2017-11-01</td>\n",
              "      <td>0</td>\n",
              "      <td>1</td>\n",
              "      <td>1</td>\n",
              "      <td>0</td>\n",
              "    </tr>\n",
              "    <tr>\n",
              "      <th>239</th>\n",
              "      <td>1009</td>\n",
              "      <td>2017-12-01</td>\n",
              "      <td>0</td>\n",
              "      <td>1</td>\n",
              "      <td>1</td>\n",
              "      <td>1</td>\n",
              "    </tr>\n",
              "  </tbody>\n",
              "</table>\n",
              "<p>120 rows × 6 columns</p>\n",
              "</div>"
            ],
            "text/plain": [
              "       id        yrm  cad0  cad1  dv9  target\n",
              "12   1000 2017-01-01     1     1    0       0\n",
              "13   1000 2017-02-01     1     1    0       0\n",
              "14   1000 2017-03-01     1     1    0       0\n",
              "15   1000 2017-04-01     1     1    0       0\n",
              "16   1000 2017-05-01     1     1    0       0\n",
              "..    ...        ...   ...   ...  ...     ...\n",
              "235  1009 2017-08-01     0     1    1       0\n",
              "236  1009 2017-09-01     0     1    1       0\n",
              "237  1009 2017-10-01     0     1    1       0\n",
              "238  1009 2017-11-01     0     1    1       0\n",
              "239  1009 2017-12-01     0     1    1       1\n",
              "\n",
              "[120 rows x 6 columns]"
            ]
          },
          "metadata": {
            "tags": []
          },
          "execution_count": 11
        }
      ]
    },
    {
      "cell_type": "markdown",
      "metadata": {
        "id": "W2IkUX8JhNyN",
        "colab_type": "text"
      },
      "source": [
        "### Predictions \n",
        "The predictions are easy to assess for the toy model. \n",
        "For the toy model:\n",
        "    - The first 4 individuals are not referrals.\n",
        "    - The next 2 are positive in the first three months.\n",
        "    - The next 2 are positive in the first 6 months.\n",
        "    - The final 2 are positive in the 12th month. \n",
        "\n",
        "We set the windows according to the following. \n",
        "`windows= [[0,3], [0,6], [0,12]]`"
      ]
    },
    {
      "cell_type": "code",
      "metadata": {
        "id": "BrXbweu0hNyQ",
        "colab_type": "code",
        "outputId": "83270f48-6908-4c5f-a23d-571d8b471862",
        "colab": {
          "base_uri": "https://localhost:8080/",
          "height": 55
        }
      },
      "source": [
        "probabilities=np.array([0,.05,.1,0,.9,.9,.8,.8,.9,.9])\n",
        "threshold=0.5\n",
        "predictions = np.where(probabilities > 0.5, 1, 0)\n",
        "predictions"
      ],
      "execution_count": 0,
      "outputs": [
        {
          "output_type": "execute_result",
          "data": {
            "text/plain": [
              "array([0, 0, 0, 0, 1, 1, 1, 1, 1, 1])"
            ]
          },
          "metadata": {
            "tags": []
          },
          "execution_count": 12
        }
      ]
    },
    {
      "cell_type": "code",
      "metadata": {
        "id": "lh6kMpWAhNyW",
        "colab_type": "code",
        "outputId": "88ca2bc9-b052-4499-f6de-741b2e0ca915",
        "colab": {
          "base_uri": "https://localhost:8080/",
          "height": 164
        }
      },
      "source": [
        "def score_windows(test, probabilities, threshold, windows):\n",
        "    \"\"\"\n",
        "    test = test dataframe\n",
        "    \n",
        "    \"\"\"\n",
        "    ir=test.pivot_table(index='id', columns='yrm', values='target', aggfunc='sum')\n",
        "    c=ir.columns\n",
        "    df=pd.DataFrame() #final results\n",
        "    predictions=np.where(probabilities > 0.5, 1, 0) \n",
        "    row=0\n",
        "    # Loop through the windows\n",
        "    for w in windows:\n",
        "        sl=slice(w[0],w[1])\n",
        "        y= ir.iloc[:,sl].sum(axis=1)\n",
        "        label=c[w[0]].strftime('%Y%m')+'-'+c[w[1]-1].strftime('%Y%m')\n",
        "        df.loc[row, 'range']=label\n",
        "        df.loc[row, 'log_loss'] = log_loss(y, probabilities)\n",
        "        df.loc[row, 'precision']=precision_score(y, predictions)\n",
        "        df.loc[row, 'recall']=recall_score(y, predictions)\n",
        "        df.loc[row, 'accuracy']=accuracy_score(y, predictions)\n",
        "        df.loc[row, 'balanced_accuracy']=balanced_accuracy_score(y, predictions)\n",
        "        df.loc[row, 'f1']=f1_score(y, predictions)\n",
        "        row=row+1\n",
        "    return df\n",
        "\n",
        "#define the windows.  For example [0,3] is including between 0-3 months.\n",
        "windows= [[0,3], [0,6], [0,12]]\n",
        "#Score windows\n",
        "score_windows(test,probabilities,threshold,windows)\n"
      ],
      "execution_count": 0,
      "outputs": [
        {
          "output_type": "execute_result",
          "data": {
            "text/html": [
              "<div>\n",
              "<style scoped>\n",
              "    .dataframe tbody tr th:only-of-type {\n",
              "        vertical-align: middle;\n",
              "    }\n",
              "\n",
              "    .dataframe tbody tr th {\n",
              "        vertical-align: top;\n",
              "    }\n",
              "\n",
              "    .dataframe thead th {\n",
              "        text-align: right;\n",
              "    }\n",
              "</style>\n",
              "<table border=\"1\" class=\"dataframe\">\n",
              "  <thead>\n",
              "    <tr style=\"text-align: right;\">\n",
              "      <th></th>\n",
              "      <th>range</th>\n",
              "      <th>log_loss</th>\n",
              "      <th>precision</th>\n",
              "      <th>recall</th>\n",
              "      <th>accuracy</th>\n",
              "      <th>balanced_accuracy</th>\n",
              "      <th>f1</th>\n",
              "    </tr>\n",
              "  </thead>\n",
              "  <tbody>\n",
              "    <tr>\n",
              "      <th>0</th>\n",
              "      <td>201701-201703</td>\n",
              "      <td>0.819142</td>\n",
              "      <td>0.333333</td>\n",
              "      <td>1.0</td>\n",
              "      <td>0.6</td>\n",
              "      <td>0.750000</td>\n",
              "      <td>0.5</td>\n",
              "    </tr>\n",
              "    <tr>\n",
              "      <th>1</th>\n",
              "      <td>201701-201706</td>\n",
              "      <td>0.541883</td>\n",
              "      <td>0.666667</td>\n",
              "      <td>1.0</td>\n",
              "      <td>0.8</td>\n",
              "      <td>0.833333</td>\n",
              "      <td>0.8</td>\n",
              "    </tr>\n",
              "    <tr>\n",
              "      <th>2</th>\n",
              "      <td>201701-201712</td>\n",
              "      <td>0.102438</td>\n",
              "      <td>1.000000</td>\n",
              "      <td>1.0</td>\n",
              "      <td>1.0</td>\n",
              "      <td>1.000000</td>\n",
              "      <td>1.0</td>\n",
              "    </tr>\n",
              "  </tbody>\n",
              "</table>\n",
              "</div>"
            ],
            "text/plain": [
              "           range  log_loss  precision  recall  accuracy  balanced_accuracy  \\\n",
              "0  201701-201703  0.819142   0.333333     1.0       0.6           0.750000   \n",
              "1  201701-201706  0.541883   0.666667     1.0       0.8           0.833333   \n",
              "2  201701-201712  0.102438   1.000000     1.0       1.0           1.000000   \n",
              "\n",
              "    f1  \n",
              "0  0.5  \n",
              "1  0.8  \n",
              "2  1.0  "
            ]
          },
          "metadata": {
            "tags": []
          },
          "execution_count": 15
        }
      ]
    },
    {
      "cell_type": "markdown",
      "metadata": {
        "id": "qUiKMhfZhNyZ",
        "colab_type": "text"
      },
      "source": [
        "## Null Model \n",
        "The null model here is just that there are referrals. "
      ]
    },
    {
      "cell_type": "code",
      "metadata": {
        "id": "dZvmEbuChNya",
        "colab_type": "code",
        "outputId": "b3cc4ab4-53f0-4e25-fa06-4829e3178d36",
        "colab": {
          "base_uri": "https://localhost:8080/",
          "height": 164
        }
      },
      "source": [
        "null=np.array([0,0,0,0,0,0,0,0,0,0])\n",
        "score_windows(test,null,threshold,windows)\n"
      ],
      "execution_count": 0,
      "outputs": [
        {
          "output_type": "execute_result",
          "data": {
            "text/html": [
              "<div>\n",
              "<style scoped>\n",
              "    .dataframe tbody tr th:only-of-type {\n",
              "        vertical-align: middle;\n",
              "    }\n",
              "\n",
              "    .dataframe tbody tr th {\n",
              "        vertical-align: top;\n",
              "    }\n",
              "\n",
              "    .dataframe thead th {\n",
              "        text-align: right;\n",
              "    }\n",
              "</style>\n",
              "<table border=\"1\" class=\"dataframe\">\n",
              "  <thead>\n",
              "    <tr style=\"text-align: right;\">\n",
              "      <th></th>\n",
              "      <th>range</th>\n",
              "      <th>log_loss</th>\n",
              "      <th>precision</th>\n",
              "      <th>recall</th>\n",
              "      <th>accuracy</th>\n",
              "      <th>balanced_accuracy</th>\n",
              "      <th>f1</th>\n",
              "    </tr>\n",
              "  </thead>\n",
              "  <tbody>\n",
              "    <tr>\n",
              "      <th>0</th>\n",
              "      <td>201701-201703</td>\n",
              "      <td>6.907755</td>\n",
              "      <td>0.0</td>\n",
              "      <td>0.0</td>\n",
              "      <td>0.8</td>\n",
              "      <td>0.5</td>\n",
              "      <td>0.0</td>\n",
              "    </tr>\n",
              "    <tr>\n",
              "      <th>1</th>\n",
              "      <td>201701-201706</td>\n",
              "      <td>13.815511</td>\n",
              "      <td>0.0</td>\n",
              "      <td>0.0</td>\n",
              "      <td>0.6</td>\n",
              "      <td>0.5</td>\n",
              "      <td>0.0</td>\n",
              "    </tr>\n",
              "    <tr>\n",
              "      <th>2</th>\n",
              "      <td>201701-201712</td>\n",
              "      <td>20.723266</td>\n",
              "      <td>0.0</td>\n",
              "      <td>0.0</td>\n",
              "      <td>0.4</td>\n",
              "      <td>0.5</td>\n",
              "      <td>0.0</td>\n",
              "    </tr>\n",
              "  </tbody>\n",
              "</table>\n",
              "</div>"
            ],
            "text/plain": [
              "           range   log_loss  precision  recall  accuracy  balanced_accuracy  \\\n",
              "0  201701-201703   6.907755        0.0     0.0       0.8                0.5   \n",
              "1  201701-201706  13.815511        0.0     0.0       0.6                0.5   \n",
              "2  201701-201712  20.723266        0.0     0.0       0.4                0.5   \n",
              "\n",
              "    f1  \n",
              "0  0.0  \n",
              "1  0.0  \n",
              "2  0.0  "
            ]
          },
          "metadata": {
            "tags": []
          },
          "execution_count": 17
        }
      ]
    },
    {
      "cell_type": "code",
      "metadata": {
        "id": "Sr0cvTuvhNyd",
        "colab_type": "code",
        "colab": {}
      },
      "source": [
        ""
      ],
      "execution_count": 0,
      "outputs": []
    }
  ]
}